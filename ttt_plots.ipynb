{
 "cells": [
  {
   "cell_type": "code",
   "execution_count": 28,
   "id": "86f2563a",
   "metadata": {},
   "outputs": [],
   "source": [
    "from scqbf import *\n",
    "from scqbf.solvers import *\n",
    "\n",
    "import pickle\n",
    "import pandas as pd\n",
    "import numpy as np\n",
    "import matplotlib.pyplot as plt\n",
    "from pathlib import Path\n",
    "\n",
    "from concurrent.futures import ProcessPoolExecutor, as_completed"
   ]
  },
  {
   "cell_type": "code",
   "execution_count": 29,
   "id": "02d4a52f",
   "metadata": {},
   "outputs": [],
   "source": [
    "max_value: float = 4668.07 # Valor max encontrado para a instancia 1.2\n",
    "instance = ScQbfInstance.from_file(\"instances/gen1/instance2.txt\")\n",
    "instance_target_pairs = [\n",
    "    (instance, 0.5*max_value),\n",
    "    (instance, 0.75*max_value),\n",
    "    (instance, 0.9*max_value),\n",
    "]"
   ]
  },
  {
   "cell_type": "code",
   "execution_count": 30,
   "id": "d592a610",
   "metadata": {},
   "outputs": [],
   "source": [
    "# Base serial version (unused)\n",
    "\n",
    "# def process_pair(instance_target_pair: list[ScQbfInstance, float]):\n",
    "#     instance, target = instance_target_pair\n",
    "    \n",
    "#     tc = TerminationCriteria(max_time=10*60, max_value=target)\n",
    "#     heuristics: list[SCQBF_Solver] = [\n",
    "#         ScQbfGrasp(instance, termination_criteria=tc),\n",
    "#         ScQbfTS(instance, termination_criteria=tc),\n",
    "#         ScQbfGA(instance, termination_criteria=tc),\n",
    "#     ]\n",
    "    \n",
    "#     results = {}\n",
    "#     for heuristic in heuristics:\n",
    "#         heuristic_results = []\n",
    "#         for i in range(50):\n",
    "#             random.seed(i)\n",
    "#             heuristic.solve()\n",
    "#             heuristic_results.append({\n",
    "#                 'time': heuristic.execution_time,\n",
    "#                 'objfun_val': heuristic.best_solution.objfun_val\n",
    "#             })\n",
    "#         results[heuristic.__class__.__name__] = heuristic_results\n",
    "#     return (instance, target, results)\n"
   ]
  },
  {
   "cell_type": "code",
   "execution_count": null,
   "id": "cdf0da29",
   "metadata": {},
   "outputs": [],
   "source": [
    "from aux import process_single_run\n",
    "\n",
    "# def process_single_run(args):\n",
    "#     \"\"\"Helper function to process a single run of a heuristic\"\"\"\n",
    "#     heuristic_class, instance, tc, seed = args\n",
    "#     random.seed(seed)\n",
    "#     heuristic = heuristic_class(instance, termination_criteria=tc)\n",
    "#     heuristic.solve()\n",
    "#     return {\n",
    "#         'time': heuristic.execution_time,\n",
    "#         'objfun_val': heuristic.best_solution.objfun_val\n",
    "#     }\n",
    "\n",
    "def process_pair(instance_target_pair: list[ScQbfInstance, float]):\n",
    "    instance, target = instance_target_pair\n",
    "    \n",
    "    pickle_dir = Path(\"pickles/tttplots\")\n",
    "    pickle_dir.mkdir(parents=True, exist_ok=True)\n",
    "    \n",
    "    # unique id for this instance-target pair\n",
    "    instance_name = \"gen1_instance2\"\n",
    "    pair_id = f\"{instance_name}_target_{target:.2f}\"\n",
    "    \n",
    "    tc = TerminationCriteria(max_time_secs=10*60, target_value=target)\n",
    "    heuristic_classes = [ScQbfGrasp, ScQbfTS, ScQbfGA]\n",
    "    \n",
    "    results = {}\n",
    "    for heuristic_class in heuristic_classes:\n",
    "        heuristic_name = heuristic_class.__name__\n",
    "        pickle_file = pickle_dir / f\"{pair_id}_{heuristic_name}.pkl\"\n",
    "        \n",
    "        if pickle_file.exists():\n",
    "            with open(pickle_file, 'rb') as f:\n",
    "                results[heuristic_name] = pickle.load(f)\n",
    "            print(f\"Loaded existing results for {heuristic_name} on {pair_id}\")\n",
    "            continue\n",
    "        \n",
    "        # parallelism\n",
    "        print(f\"Processing {heuristic_name} on {pair_id} (50 runs in parallel)\")\n",
    "        run_args = [(heuristic_class, instance, tc, i) for i in range(50)]\n",
    "        with ProcessPoolExecutor(max_workers=6) as executor:\n",
    "            heuristic_results = list(executor.map(process_single_run, run_args))\n",
    "        \n",
    "        # pickle\n",
    "        results[heuristic_name] = heuristic_results\n",
    "        with open(pickle_file, 'wb') as f:\n",
    "            pickle.dump(heuristic_results, f)\n",
    "        print(f\"Saved results for {heuristic_name} on {pair_id}\")\n",
    "    \n",
    "    return results"
   ]
  },
  {
   "cell_type": "code",
   "execution_count": 32,
   "id": "1f2782c1",
   "metadata": {},
   "outputs": [
    {
     "name": "stdout",
     "output_type": "stream",
     "text": [
      "Processing ScQbfGrasp on gen1_instance2_target_2334.03 (50 runs in parallel)\n",
      "Saved results for ScQbfGrasp on gen1_instance2_target_2334.03\n",
      "Processing ScQbfTS on gen1_instance2_target_2334.03 (50 runs in parallel)\n",
      "Saved results for ScQbfTS on gen1_instance2_target_2334.03\n",
      "Processing ScQbfGA on gen1_instance2_target_2334.03 (50 runs in parallel)\n",
      "Saved results for ScQbfGA on gen1_instance2_target_2334.03\n",
      "Saved complete results for 1.2_target_2334.03\n",
      "Processing ScQbfGrasp on gen1_instance2_target_3501.05 (50 runs in parallel)\n",
      "Saved results for ScQbfGrasp on gen1_instance2_target_3501.05\n",
      "Processing ScQbfTS on gen1_instance2_target_3501.05 (50 runs in parallel)\n",
      "Saved results for ScQbfTS on gen1_instance2_target_3501.05\n",
      "Processing ScQbfGA on gen1_instance2_target_3501.05 (50 runs in parallel)\n",
      "Saved results for ScQbfGA on gen1_instance2_target_3501.05\n",
      "Saved complete results for 1.2_target_3501.05\n",
      "Processing ScQbfGrasp on gen1_instance2_target_4201.26 (50 runs in parallel)\n",
      "Saved results for ScQbfGrasp on gen1_instance2_target_4201.26\n",
      "Processing ScQbfTS on gen1_instance2_target_4201.26 (50 runs in parallel)\n",
      "Saved results for ScQbfTS on gen1_instance2_target_4201.26\n",
      "Processing ScQbfGA on gen1_instance2_target_4201.26 (50 runs in parallel)\n",
      "Saved results for ScQbfGA on gen1_instance2_target_4201.26\n",
      "Saved complete results for 1.2_target_4201.26\n"
     ]
    }
   ],
   "source": [
    "# To pickle later\n",
    "pickle_dir = Path(\"pickles/tttplots/pair_results\")\n",
    "pickle_dir.mkdir(parents=True, exist_ok=True)\n",
    "\n",
    "all_results = {}\n",
    "\n",
    "for instance, target in instance_target_pairs:\n",
    "    instance_name = \"1.2\"\n",
    "    pair_id = f\"{instance_name}_target_{target:.2f}\"\n",
    "\n",
    "    pair_pickle = pickle_dir / f\"{pair_id}_complete.pkl\"\n",
    "    \n",
    "    if pair_pickle.exists():\n",
    "        with open(pair_pickle, 'rb') as f:\n",
    "            pair_results = pickle.load(f)\n",
    "        print(f\"Loaded complete results for {pair_id}\")\n",
    "    else:\n",
    "        pair_results = process_pair((instance, target))\n",
    "        \n",
    "        with open(pair_pickle, 'wb') as f:\n",
    "            pickle.dump(pair_results, f)\n",
    "        print(f\"Saved complete results for {pair_id}\")\n",
    "    \n",
    "    all_results[pair_id] = pair_results"
   ]
  },
  {
   "cell_type": "code",
   "execution_count": 33,
   "id": "66ef3120",
   "metadata": {},
   "outputs": [
    {
     "name": "stdout",
     "output_type": "stream",
     "text": [
      "Created dataframe for 1.2_target_2334.03: 150 rows\n",
      "Created dataframe for 1.2_target_3501.05: 150 rows\n",
      "Created dataframe for 1.2_target_4201.26: 150 rows\n"
     ]
    }
   ],
   "source": [
    "# Load all pickled pair results and create dataframes\n",
    "pickle_dir = Path(\"pickles/tttplots/pair_results\")\n",
    "\n",
    "dataframes = {}\n",
    "for pair_id, pair_results in all_results.items():\n",
    "    rows = []\n",
    "    \n",
    "    for heuristic_name, heuristic_results in pair_results.items():\n",
    "        for run_idx, result in enumerate(heuristic_results):\n",
    "            rows.append({\n",
    "                'heuristic': heuristic_name,\n",
    "                'run': run_idx,\n",
    "                'time': result['time'],\n",
    "                'objfun_val': result['objfun_val']\n",
    "            })\n",
    "    \n",
    "    df = pd.DataFrame(rows)\n",
    "    dataframes[pair_id] = df\n",
    "    print(f\"Created dataframe for {pair_id}: {len(df)} rows\")"
   ]
  },
  {
   "cell_type": "code",
   "execution_count": null,
   "id": "53776977",
   "metadata": {},
   "outputs": [
    {
     "ename": "KeyError",
     "evalue": "'gen1_instance2_target_2334.03'",
     "output_type": "error",
     "traceback": [
      "\u001b[31m---------------------------------------------------------------------------\u001b[39m",
      "\u001b[31mKeyError\u001b[39m                                  Traceback (most recent call last)",
      "\u001b[36mCell\u001b[39m\u001b[36m \u001b[39m\u001b[32mIn[34]\u001b[39m\u001b[32m, line 22\u001b[39m\n\u001b[32m     19\u001b[39m     parts = split_by_heuristic(df, heur_col, time_col)\n\u001b[32m     20\u001b[39m     \u001b[38;5;28;01mreturn\u001b[39;00m {h: ttt_plot(parts[h], time_col, \u001b[33mf\u001b[39m\u001b[33m\"\u001b[39m\u001b[33mTTT - \u001b[39m\u001b[38;5;132;01m{\u001b[39;00mh\u001b[38;5;132;01m}\u001b[39;00m\u001b[33m \u001b[39m\u001b[38;5;132;01m{\u001b[39;00mpercentile\u001b[38;5;132;01m}\u001b[39;00m\u001b[33m%\u001b[39m\u001b[33m\"\u001b[39m) \u001b[38;5;28;01mfor\u001b[39;00m h \u001b[38;5;129;01min\u001b[39;00m heuristics}\n\u001b[32m---> \u001b[39m\u001b[32m22\u001b[39m results = plot_all(\u001b[43mdataframes\u001b[49m\u001b[43m[\u001b[49m\u001b[33;43m'\u001b[39;49m\u001b[33;43mgen1_instance2_target_2334.03\u001b[39;49m\u001b[33;43m'\u001b[39;49m\u001b[43m]\u001b[49m, \u001b[32m50\u001b[39m)\n\u001b[32m     23\u001b[39m results = plot_all(dataframes[\u001b[33m'\u001b[39m\u001b[33mgen1_instance2_target_3501.05\u001b[39m\u001b[33m'\u001b[39m], \u001b[32m75\u001b[39m)\n\u001b[32m     24\u001b[39m results = plot_all(dataframes[\u001b[33m'\u001b[39m\u001b[33mgen1_instance2_target_4201.26\u001b[39m\u001b[33m'\u001b[39m], \u001b[32m90\u001b[39m)\n",
      "\u001b[31mKeyError\u001b[39m: 'gen1_instance2_target_2334.03'"
     ]
    }
   ],
   "source": [
    "import pandas as pd, numpy as np, matplotlib.pyplot as plt\n",
    "\n",
    "heuristics = [\"ScQbfGrasp\", \"ScQbfTS\", \"ScQbfGA\"]\n",
    "\n",
    "def split_by_heuristic(df, heur_col=\"heuristic\", time_col=\"time (s)\"):\n",
    "    return {h: df[df[heur_col] == h].dropna(subset=[time_col]) for h in heuristics}\n",
    "\n",
    "def ttt_plot(df, time_col=\"time\", title=None):\n",
    "    x = np.sort(df[time_col])\n",
    "    y = np.arange(1, len(x)+1) / len(x)\n",
    "    plt.plot(x, y, \"o\")\n",
    "    plt.xlabel(time_col); plt.ylabel(\"Probability\")\n",
    "    if title: plt.title(title)\n",
    "    plt.grid(True, ls=\"--\", lw=0.5, alpha=0.6)\n",
    "    plt.show()\n",
    "    return x, y\n",
    "\n",
    "def plot_all(df, percentile, heur_col=\"heuristic\", time_col=\"time\"):\n",
    "    parts = split_by_heuristic(df, heur_col, time_col)\n",
    "    return {h: ttt_plot(parts[h], time_col, f\"TTT - {h} {percentile}%\") for h in heuristics}\n",
    "\n",
    "# results = plot_all(dataframes['gen1_instance2_target_2334.03'], 50)\n",
    "# results = plot_all(dataframes['gen1_instance2_target_3501.05'], 75)\n",
    "# results = plot_all(dataframes['gen1_instance2_target_4201.26'], 90)"
   ]
  }
 ],
 "metadata": {
  "kernelspec": {
   "display_name": "MO824-A5",
   "language": "python",
   "name": "python3"
  },
  "language_info": {
   "codemirror_mode": {
    "name": "ipython",
    "version": 3
   },
   "file_extension": ".py",
   "mimetype": "text/x-python",
   "name": "python",
   "nbconvert_exporter": "python",
   "pygments_lexer": "ipython3",
   "version": "3.13.3"
  }
 },
 "nbformat": 4,
 "nbformat_minor": 5
}
