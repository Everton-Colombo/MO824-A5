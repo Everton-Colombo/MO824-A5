{
 "cells": [
  {
   "cell_type": "code",
   "execution_count": 1,
   "id": "6bfad076",
   "metadata": {},
   "outputs": [],
   "source": [
    "from scqbf import *\n",
    "from scqbf.solvers import *"
   ]
  },
  {
   "cell_type": "code",
   "execution_count": 2,
   "id": "f54551ea",
   "metadata": {},
   "outputs": [],
   "source": [
    "instance = ScQbfInstance.from_file(\"instances/sample_instances/1.txt\")"
   ]
  },
  {
   "cell_type": "code",
   "execution_count": 3,
   "id": "f5a7fa75",
   "metadata": {},
   "outputs": [
    {
     "data": {
      "text/plain": [
       "ScQbfSolution(elements=[4, 3, 0, 2, 1], _objfun_val=18.0)"
      ]
     },
     "execution_count": 3,
     "metadata": {},
     "output_type": "execute_result"
    }
   ],
   "source": [
    "ts = ScQbfTS(instance, termination_criteria=TerminationCriteria(max_time_secs=60), debug_options=DebugOptions(verbose=False))\n",
    "ts.solve()"
   ]
  }
 ],
 "metadata": {
  "kernelspec": {
   "display_name": "Python 3",
   "language": "python",
   "name": "python3"
  },
  "language_info": {
   "codemirror_mode": {
    "name": "ipython",
    "version": 3
   },
   "file_extension": ".py",
   "mimetype": "text/x-python",
   "name": "python",
   "nbconvert_exporter": "python",
   "pygments_lexer": "ipython3",
   "version": "3.10.12"
  }
 },
 "nbformat": 4,
 "nbformat_minor": 5
}
